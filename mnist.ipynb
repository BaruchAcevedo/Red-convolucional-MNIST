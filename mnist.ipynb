{
 "cells": [
  {
   "cell_type": "markdown",
   "metadata": {},
   "source": [
    "# Redes neuronales convolucionales."
   ]
  },
  {
   "cell_type": "markdown",
   "metadata": {},
   "source": [
    "La convolución es un operador que nos permite transformar dos funciones en una tercera función.\n",
    "\n",
    "Para dos funciones $f$ y $g$ definimos la convolución $\\ast$ como:\n",
    "\n",
    "$$ (f \\ast g )(t) = \\int_{-\\infty}^{\\infty} f(a)g(t-a) da$$\n",
    "\n",
    "Por ejemplo, si tomamos dos funciones iguales, cuadrados, al evaluar en diferentes elementos de la \n",
    "recta real podemos obtendremos como resultado una función con forma de triangulo, con un pico en \n",
    "el valor donde las dos funciones coincidan.\n",
    "\n",
    "<figure class=\"image\">\n",
    "    <img src=\"./img/Convolution_of_box_signal_with_itself2.gif\" alt=\"Aplicación de la convolución de una función consigo misma\">\n",
    "    <figcaption>\n",
    "        <center>\n",
    "        Animación de <b>Lautaro Carmona</b>, fuente: <a href=\"https://commons.wikimedia.org/wiki/File:Convolucion_Funcion_Pi.gif\">Wikimedia Commons</a>\n",
    "        </center>\n",
    "    </figcaption>\n",
    "</figure>\n",
    "\n",
    "De la misma manera, podemos definir un equivalente para funciones discretas de la siguiente manera:\n",
    "\n",
    "$$ (f \\ast g )(n) = \\sum_{m=-\\infty}^{\\infty} f(m)g(n-m)$$\n",
    "\n",
    "De la misma manera, si nuestra función no está definida sobre todos los enteros, podemos \n",
    "reducir la suma unicamente al dominio de la función."
   ]
  },
  {
   "cell_type": "markdown",
   "metadata": {},
   "source": [
    "## Filtros convolucionales."
   ]
  },
  {
   "cell_type": "markdown",
   "metadata": {},
   "source": [
    "Podemos de la misma manera definir la convolución respecto a más dimensiones. por lo que\n",
    "podemos usarlo también para matrices.\n",
    "\n",
    "Sean $I$ y $K$ matrices bidimensionales, definimos la convolución de las matrices como:\n",
    "\n",
    "$$ (I \\ast K)(i, j) = \\sum_{m} \\sum_{n} I[m,n]K[i-m,j-n] $$\n",
    "\n",
    "Sin embargo, usualmente en el analisis de imágenes no se suele usar está función, sino, una muy similar.\n",
    "La **correlacion cruzada** la cual se define de la siguiente manera:\n",
    "\n",
    "$$ (K \\ast I)(i, j) = \\sum_{m} \\sum_{n} I[m+i,n+j]K[m,n] $$\n",
    "\n",
    "Sin embargo, usualmente también se le llama convolución.\n",
    "\n",
    "De está manera, y usando como matriz a una imagen $I$, podemos definir diferentes filtros $K$ con los cuales\n",
    "obtener datos de la imágen, o modificarla para obtener efectos.\n",
    "\n",
    "Por ejemplo, usando el siguiente filtro podemos obtener los bordes de la imágen.\n",
    "\n",
    "$$ \n",
    "    \\begin{pmatrix}\n",
    "        0 & -1 & 0\\\\\n",
    "        -1 & 4 & -1\\\\\n",
    "        0 & -1 & 0\n",
    "    \\end{pmatrix}\n",
    "$$\n",
    "\n",
    "<figure class=\"image\">\n",
    "    <img src=\"./img/Vd-Orig.png\" alt=\"Imagen de ejemplo\">\n",
    "    <figcaption>\n",
    "        <center>\n",
    "        Imagen de <b>Michael Plotke</b>, fuente: <a href=\"https://commons.wikimedia.org/wiki/File:Vd-Orig.png\">Wikimedia commons</a>\n",
    "        </center>\n",
    "    </figcaption>\n",
    "</figure>\n",
    "\n",
    "<figure class=\"image\">\n",
    "    <img src=\"./img/Vd-Edge2.png\" alt=\"Aplicación de filtro de bordes.\">\n",
    "    <figcaption>\n",
    "        <center>\n",
    "        Imagen de <b>Michel Plotke</b>, fuente: <a href=\"https://commons.wikimedia.org/wiki/File:Vd-Edge2.png\">Wikimedia Commons</a>\n",
    "        </center>\n",
    "    </figcaption>\n",
    "</figure>\n",
    "\n",
    "Podemos ver más ejemplos e interactuar con ellos en https://setosa.io/ev/image-kernels/\n",
    "\n",
    "No es estrictamente necesario realizar este procedimiento por cada elemento de la imagen original, \n",
    "podemos obtener diferentes resultados si por ejemplo, en lugar de movernos una única casilla de la matríz\n",
    "nos desplazamos 2 por cada aplicación del filtro.\n",
    "\n",
    "Este filtro también nos genera un problema, y es que, si seleccionamos como centro del filtro a elementos de \n",
    "las orillas, tendremos datos con los cuales no podremos operar, fuera de la mátriz. por lo que se debe tomar \n",
    "una desicíon, por ejemplo, solo tomar los puntos donde el resultado si provenga de elementos de la imagen."
   ]
  },
  {
   "cell_type": "markdown",
   "metadata": {},
   "source": [
    "## Redes neuronales convolucionales."
   ]
  },
  {
   "cell_type": "markdown",
   "metadata": {},
   "source": [
    "Como sabemos por experiencia propia, es posible analizar imágenes usando redes neuronales, sin embargo, \n",
    "con forme aumenta la resolución de una imagen, también crecerá la cantidad de pesos que se deben entrenar.\n",
    "\n",
    "Por ello se busca obtener caracteristicas de las imágenes antes de realizar su analisis completo.\n",
    "Si modificamos la manera en la que se alimenta una neurona, para que los pesos representen filtros de convolución, \n",
    "no es necesario tener una neurona por cada entrada de la imagen original, sino que podemos tener solo \n",
    "el tamaño del filtro que usaremos, y la cantidad de filtros que deseamos usar.\n",
    "\n",
    "Para mostrar cual es el proceso de la construcción de una red neuronal convolucional usaremos la siguiente red,\n",
    "la cual resuelve el problema de clasificar los números de MNIST."
   ]
  },
  {
   "cell_type": "code",
   "execution_count": 1,
   "metadata": {},
   "outputs": [],
   "source": [
    "import torch\n",
    "import matplotlib.pyplot as plt\n",
    "import matplotlib as cm\n",
    "import numpy as np\n",
    "\n",
    "import time\n",
    "import copy\n",
    "\n",
    "import torchvision\n",
    "import torchvision.transforms as transforms\n",
    "\n",
    "import torch.nn as nn\n",
    "import torch.nn.init as init\n",
    "import torch.optim as optim"
   ]
  },
  {
   "cell_type": "markdown",
   "metadata": {},
   "source": [
    "El modulo torchvision nos permite obtener fácilmente algunos de los conjuntos de datos más utilizados, como es el caso de MNIST. Podemos elegir si guardar los datos de MNIST o solo usarlos en este momento."
   ]
  },
  {
   "cell_type": "code",
   "execution_count": 2,
   "metadata": {},
   "outputs": [],
   "source": [
    "trainset = torchvision.datasets.MNIST(root='./data', train=True, \n",
    "                                        download=True, \n",
    "                                        transform=transforms.ToTensor())"
   ]
  },
  {
   "cell_type": "markdown",
   "metadata": {},
   "source": [
    "Seleccionamos un lote de entrenamiento."
   ]
  },
  {
   "cell_type": "code",
   "execution_count": 3,
   "metadata": {},
   "outputs": [],
   "source": [
    "batch_size = 4"
   ]
  },
  {
   "cell_type": "markdown",
   "metadata": {},
   "source": [
    "Podemos convertir los datos listas de entrenamiento."
   ]
  },
  {
   "cell_type": "code",
   "execution_count": 4,
   "metadata": {},
   "outputs": [],
   "source": [
    "trainloader = torch.utils.data.DataLoader(trainset, batch_size=batch_size, shuffle=True)"
   ]
  },
  {
   "cell_type": "markdown",
   "metadata": {},
   "source": [
    "Las capas convolucionales actuaran realizando el proceso de correlación entre la matriz de entrada, \n",
    "y los pesos que tenga actualmente. De está manera se evita asignarle un peso a cada \n",
    "elemento de la matriz. Y respecto a la función original, podemos elegir la manera en la que se evaluará,\n",
    "modificando los pasos (stride) que dará la convolución en su evaluación.\n",
    "Así mismo, tambien podemos elegir como resolverá el problema de las evaluaciónes cerca del final de la matriz.\n",
    "\n",
    "En pytorch se encuentra la definición de capa convolucional, por defecto realiza pasos de uno en uno y \n",
    "solo se evalua en elementos que tengan que tengan todos los elementos definidos, por lo que no realizará ningun\n",
    "relleno (padding) al rededor de la matriz. Estos elementos son modificables.\n",
    "\n",
    "Tras obtener la nueva matriz tras el filtro convolucional aprendido, usaremos una función de agrupamiento\n",
    "(pooling) la cual nos servirá para reducir un poco más, en este caso, usaremos un filtro de una matriz\n",
    "y de la misma manera que el filtro convolucional recorrerá la matriz, pero en esté caso realizará un promedio\n",
    "entre todos los elementos que obtenga y creará una nueva matriz con el promedio de los elementos.\n"
   ]
  },
  {
   "cell_type": "code",
   "execution_count": 5,
   "metadata": {},
   "outputs": [],
   "source": [
    "class mnist(nn.Module):\n",
    "    def __init__(self):\n",
    "        '''\n",
    "        Definimos los atributos de la red, esta red está definida pensando en el problema \n",
    "        de MNIST, por lo que no se agregaron parámetros.\n",
    "        '''\n",
    "        super(mnist, self).__init__()\n",
    "        self.features = nn.Sequential(\n",
    "            # Primer capa convolucional. Debido a que MNIST usa imagénes en blanco y negro\n",
    "            # solo tendremos un canal de entrada. Y en este caso, obtendremos 3 elementos de salida.\n",
    "            nn.Conv2d(1, 3, 5),\n",
    "            # Usamos como función de activación la rectificadora lineal.\n",
    "            nn.ReLU(),\n",
    "            # Reducimos nuestros datos con la función de pooling, en este caso \n",
    "            # usando el promedio para crear la nueva matriz. Notemos que \n",
    "            # tiene un paso de 2, el cual servirá para que no se repitan mediciones\n",
    "            # del promedio.\n",
    "            nn.AvgPool2d(2, stride=2),\n",
    "        )\n",
    "        self.features1 = nn.Sequential(\n",
    "            # Realizamos la siguiente capa, con lso mismos elementos equivalentes, exceptuando por \n",
    "            # la capa de normalización de lote.\n",
    "            # La diferencia en este caso es que, a pesar de tener 3 canales de entrada, \n",
    "            # solo dará como resultado 6 canales, para ello usará 18 matrices de (3,3)\n",
    "            # como pesos, e irá sumando los resultados de las tres capas.\n",
    "            nn.Conv2d(3, 6, 3),\n",
    "            # La normalización en este caso está definida para matrices bidimensionales \n",
    "            # usaremos las 6 resultantes de la capa anterior.\n",
    "            nn.BatchNorm2d(6),\n",
    "            nn.ReLU(),\n",
    "            nn.AvgPool2d(2, stride=2)\n",
    "        )\n",
    "        self.classifier = nn.Sequential(\n",
    "            # Por ultimo usaremos dos capas completamente conectadas, esperando \n",
    "            # que pueda obtener suficientes datos a partir de las convoluciones \n",
    "            # que hemos realizado.\n",
    "            nn.Linear(150, 25),\n",
    "            nn.ReLU(),\n",
    "            nn.Linear(25,10)\n",
    "        )\n",
    "        # Inicializamos los pesos pesos con una distribución normal\n",
    "        for m in self.modules():\n",
    "            if isinstance(m, nn.Conv2d):\n",
    "                init.normal_(m.weight, mean=0.0, std=0.01)\n",
    "                if m.bias is not None:\n",
    "                    init.constant_(m.bias, 0)\n",
    "            elif isinstance(m,nn.Linear):\n",
    "                init.normal_(m.weight,mean=0.0,std=0.001)\n",
    "        \n",
    "    def forward(self, x):\n",
    "        '''\n",
    "        Definimos los como se conectarán las capas de la red.\n",
    "        '''\n",
    "        x = self.features(x)\n",
    "        x = self.features1(x)\n",
    "        # Aquí es necesario aplanar los resultados para que puedan aplicarse a \n",
    "        # las capas lineales.\n",
    "        x = x.view(x.size(0), -1)\n",
    "        x = self.classifier(x)\n",
    "        return x"
   ]
  },
  {
   "cell_type": "code",
   "execution_count": 6,
   "metadata": {},
   "outputs": [],
   "source": [
    "# Definimos una función de entrenamiento para esta red.\n",
    "\n",
    "def training(model, dataloaders,device ,criterion, optimizer, num_epochs = 10):\n",
    "    since = time.time()\n",
    "    best_model_wts = copy.deepcopy(model.state_dict())\n",
    "    best_acc = 0.0\n",
    "    for epoch in range(num_epochs):\n",
    "        print('Epoch {}/{}'.format(epoch, num_epochs - 1))\n",
    "        print('----------')\n",
    "        for phase in ['train', 'val']:\n",
    "            if (phase == 'train'):\n",
    "                model.train()\n",
    "            else:\n",
    "                model.eval()\n",
    "            running_loss = 0.0\n",
    "            running_corrects = 0\n",
    "            for inputs, labels in dataloaders[phase]:\n",
    "                inputs = inputs.to(device)\n",
    "                labels = labels.to(device)\n",
    "                optimizer.zero_grad()\n",
    "                outputs = model(inputs)\n",
    "                loss = criterion(outputs,labels)\n",
    "                _, preds = torch.max(outputs,1)\n",
    "                if(phase == 'train'):\n",
    "                    loss.backward()\n",
    "                    optimizer.step()\n",
    "                running_loss += loss.item()*inputs.size(0)\n",
    "                running_corrects += torch.sum(preds==labels.data)\n",
    "            epoch_loss = running_loss / len(dataloaders[phase])\n",
    "            epoch_acc = running_corrects.double() / len(dataloaders[phase])\n",
    "            print('{} Loss: {:.4f} Acc: {:.4f}'.format(phase, epoch_loss, epoch_acc))\n",
    "            if(phase == 'val' and epoch_acc > best_acc):\n",
    "                best_acc = epoch_acc\n",
    "                best_model_wts = copy.deepcopy(model.state_dict())\n",
    "            print('----------')\n",
    "    time_elapsed = time.time() - since\n",
    "    print('Entrenamiento completado {:.0f}m {:.0f}s'.format(time_elapsed // 60, time_elapsed % 60))\n",
    "    print('Best val Acc: {:4f}'.format(best_acc))\n",
    "    model.load_state_dict(best_model_wts)\n",
    "    return model\n"
   ]
  },
  {
   "cell_type": "code",
   "execution_count": 7,
   "metadata": {},
   "outputs": [],
   "source": [
    "datas = [x for x in trainloader]"
   ]
  },
  {
   "cell_type": "code",
   "execution_count": 8,
   "metadata": {},
   "outputs": [
    {
     "name": "stdout",
     "output_type": "stream",
     "text": [
      "12000\n",
      "3000\n"
     ]
    }
   ],
   "source": [
    "# Definimos los conjuntos de entrenamiento y validación a paritr de los datos cargados.\n",
    "train_rate = 0.8\n",
    "size = len(datas)\n",
    "size = int(np.ceil(size*train_rate))\n",
    "train_dic = {'train':datas[:size] , 'val':datas[size:]}\n",
    "print(len(train_dic['train']))\n",
    "print(len(train_dic['val']))"
   ]
  },
  {
   "cell_type": "code",
   "execution_count": 9,
   "metadata": {},
   "outputs": [],
   "source": [
    "# Inicalizamos el modelo y las funciones necesarias para el entrenamiento.\n",
    "\n",
    "model = mnist()\n",
    "params_to_update = model.parameters()\n",
    "optimizer = optim.SGD(params_to_update, lr=0.001, momentum=0.9)\n",
    "criterion = nn.CrossEntropyLoss()\n",
    "device = torch.device(\"cuda:0\" if torch.cuda.is_available() else \"cpu\")\n",
    "model = model.to(device)"
   ]
  },
  {
   "cell_type": "code",
   "execution_count": 10,
   "metadata": {},
   "outputs": [
    {
     "name": "stdout",
     "output_type": "stream",
     "text": [
      "Modelo cargado.\n"
     ]
    }
   ],
   "source": [
    "# Si tenemos un modelo anterior, lo cargamos.\n",
    "\n",
    "try:\n",
    "    std_dict = torch.load('./mnist_3.pth')\n",
    "    model.load_state_dict(std_dict)\n",
    "    print(\"Modelo cargado.\")\n",
    "except:\n",
    "    print(\"Modelo nuevo.\")"
   ]
  },
  {
   "cell_type": "code",
   "execution_count": null,
   "metadata": {},
   "outputs": [],
   "source": [
    "# Entrenamos el modelo, y guardamos el estado de la red al final.\n",
    "\n",
    "model = training(model,train_dic,device, criterion,optimizer,num_epochs=50)\n",
    "torch.save(model.state_dict(),\"./mnist_3.pth\")\n",
    "print(\"Modelo Guardado\")"
   ]
  },
  {
   "cell_type": "code",
   "execution_count": 11,
   "metadata": {
    "scrolled": true
   },
   "outputs": [],
   "source": [
    "# Veamos los filtros que está red ha aprendido.\n",
    "\n",
    "a  = model.state_dict()\n",
    "capa1 = model.features[0].weight.detach()\n",
    "capa2 = model.features1[0].weight.detach()"
   ]
  },
  {
   "cell_type": "code",
   "execution_count": 12,
   "metadata": {},
   "outputs": [],
   "source": [
    "def imshow(img, title,cmap, norm=None):\n",
    "    '''\n",
    "    Función para mostrar las matrices.\n",
    "    '''\n",
    "    plt.figure()\n",
    "    plt.axis('off')\n",
    "    plt.imshow(img, cmap=cmap, norm=norm)\n",
    "    plt.title(title)\n",
    "    plt.show()\n"
   ]
  },
  {
   "cell_type": "markdown",
   "metadata": {},
   "source": [
    "En este ejemplo podemos ver que filtros ha encontrado está red. Dado que los pesos pueden ser tanto negativos \n",
    "como positivos, por lo que en este caso se mostrarán con azules los valores más negativos y verde los más \n",
    "positivos."
   ]
  },
  {
   "cell_type": "code",
   "execution_count": 13,
   "metadata": {
    "scrolled": false
   },
   "outputs": [
    {
     "data": {
      "image/png": "[encoded data removed]",
      "text/plain": [
       "<Figure size 432x288 with 1 Axes>"
      ]
     },
     "metadata": {
      "needs_background": "light"
     },
     "output_type": "display_data"
    },
    {
     "data": {
      "image/png": "[encoded data removed]",
      "text/plain": [
       "<Figure size 432x288 with 1 Axes>"
      ]
     },
     "metadata": {
      "needs_background": "light"
     },
     "output_type": "display_data"
    },
    {
     "data": {
      "image/png": "[encoded data removed]",
      "text/plain": [
       "<Figure size 432x288 with 1 Axes>"
      ]
     },
     "metadata": {
      "needs_background": "light"
     },
     "output_type": "display_data"
    },
    {
     "data": {
      "image/png": "[encoded data removed]",
      "text/plain": [
       "<Figure size 432x288 with 1 Axes>"
      ]
     },
     "metadata": {
      "needs_background": "light"
     },
     "output_type": "display_data"
    },
    {
     "data": {
      "image/png": "[encoded data removed]",
      "text/plain": [
       "<Figure size 432x288 with 1 Axes>"
      ]
     },
     "metadata": {
      "needs_background": "light"
     },
     "output_type": "display_data"
    },
    {
     "data": {
      "image/png": "[encoded data removed]",
      "text/plain": [
       "<Figure size 432x288 with 1 Axes>"
      ]
     },
     "metadata": {
      "needs_background": "light"
     },
     "output_type": "display_data"
    },
    {
     "data": {
      "image/png": "[encoded data removed]",
      "text/plain": [
       "<Figure size 432x288 with 1 Axes>"
      ]
     },
     "metadata": {
      "needs_background": "light"
     },
     "output_type": "display_data"
    },
    {
     "data": {
      "image/png": "[encoded data removed]",
      "text/plain": [
       "<Figure size 432x288 with 1 Axes>"
      ]
     },
     "metadata": {
      "needs_background": "light"
     },
     "output_type": "display_data"
    },
    {
     "data": {
      "image/png": "[encoded data removed]",
      "text/plain": [
       "<Figure size 432x288 with 1 Axes>"
      ]
     },
     "metadata": {
      "needs_background": "light"
     },
     "output_type": "display_data"
    },
    {
     "data": {
      "image/png": "[encoded data removed]",
      "text/plain": [
       "<Figure size 432x288 with 1 Axes>"
      ]
     },
     "metadata": {
      "needs_background": "light"
     },
     "output_type": "display_data"
    },
    {
     "data": {
      "image/png": "[encoded data removed]",
      "text/plain": [
       "<Figure size 432x288 with 1 Axes>"
      ]
     },
     "metadata": {
      "needs_background": "light"
     },
     "output_type": "display_data"
    },
    {
     "data": {
      "image/png": "[encoded data removed]",
      "text/plain": [
       "<Figure size 432x288 with 1 Axes>"
      ]
     },
     "metadata": {
      "needs_background": "light"
     },
     "output_type": "display_data"
    },
    {
     "data": {
      "image/png": "[encoded data removed]",
      "text/plain": [
       "<Figure size 432x288 with 1 Axes>"
      ]
     },
     "metadata": {
      "needs_background": "light"
     },
     "output_type": "display_data"
    },
    {
     "data": {
      "image/png": "[encoded data removed]",
      "text/plain": [
       "<Figure size 432x288 with 1 Axes>"
      ]
     },
     "metadata": {
      "needs_background": "light"
     },
     "output_type": "display_data"
    },
    {
     "data": {
      "image/png": "[encoded data removed]",
      "text/plain": [
       "<Figure size 432x288 with 1 Axes>"
      ]
     },
     "metadata": {
      "needs_background": "light"
     },
     "output_type": "display_data"
    },
    {
     "data": {
      "image/png": "[encoded data removed]",
      "text/plain": [
       "<Figure size 432x288 with 1 Axes>"
      ]
     },
     "metadata": {
      "needs_background": "light"
     },
     "output_type": "display_data"
    },
    {
     "data": {
      "image/png": "[encoded data removed]",
      "text/plain": [
       "<Figure size 432x288 with 1 Axes>"
      ]
     },
     "metadata": {
      "needs_background": "light"
     },
     "output_type": "display_data"
    },
    {
     "data": {
      "image/png": "[encoded data removed]",
      "text/plain": [
       "<Figure size 432x288 with 1 Axes>"
      ]
     },
     "metadata": {
      "needs_background": "light"
     },
     "output_type": "display_data"
    },
    {
     "data": {
      "image/png": "[encoded data removed]",
      "text/plain": [
       "<Figure size 432x288 with 1 Axes>"
      ]
     },
     "metadata": {
      "needs_background": "light"
     },
     "output_type": "display_data"
    },
    {
     "data": {
      "image/png": "[encoded data removed]",
      "text/plain": [
       "<Figure size 432x288 with 1 Axes>"
      ]
     },
     "metadata": {
      "needs_background": "light"
     },
     "output_type": "display_data"
    },
    {
     "data": {
      "image/png": "[encoded data removed]",
      "text/plain": [
       "<Figure size 432x288 with 1 Axes>"
      ]
     },
     "metadata": {
      "needs_background": "light"
     },
     "output_type": "display_data"
    }
   ],
   "source": [
    "i = 0\n",
    "for filtro in capa1:\n",
    "    imshow(filtro[0,:,:],'filtro {} capa 1'.format(i),'winter')\n",
    "    i+=1\n",
    "i=0\n",
    "for filtro1 in capa2:\n",
    "    for filtro2 in filtro1:\n",
    "        imshow(filtro2,'filtro {} capa 2'.format(i),'winter')\n",
    "    i+=1    \n"
   ]
  },
  {
   "cell_type": "code",
   "execution_count": 14,
   "metadata": {
    "scrolled": false
   },
   "outputs": [
    {
     "name": "stdout",
     "output_type": "stream",
     "text": [
      "El modelo considera que este número es un  5\n"
     ]
    },
    {
     "data": {
      "image/png": "[encoded data removed]",
      "text/plain": [
       "<Figure size 432x288 with 1 Axes>"
      ]
     },
     "metadata": {
      "needs_background": "light"
     },
     "output_type": "display_data"
    },
    {
     "data": {
      "image/png": "[encoded data removed]",
      "text/plain": [
       "<Figure size 432x288 with 1 Axes>"
      ]
     },
     "metadata": {
      "needs_background": "light"
     },
     "output_type": "display_data"
    },
    {
     "data": {
      "image/png": "[encoded data removed]",
      "text/plain": [
       "<Figure size 432x288 with 1 Axes>"
      ]
     },
     "metadata": {
      "needs_background": "light"
     },
     "output_type": "display_data"
    },
    {
     "data": {
      "image/png": "[encoded data removed]",
      "text/plain": [
       "<Figure size 432x288 with 1 Axes>"
      ]
     },
     "metadata": {
      "needs_background": "light"
     },
     "output_type": "display_data"
    }
   ],
   "source": [
    "imagen = train_dic['val'][30][0]\n",
    "o = model(imagen)\n",
    "_,pred = torch.max(o,1)\n",
    "print('El modelo considera que este número es un ',int(pred[0]))\n",
    "\n",
    "imshow(imagen[0,0,:,:],'Numero','Greys')\n",
    "\n",
    "procesada = model.features(imagen)\n",
    "\n",
    "imshow(procesada[0,0,:,:].detach(),'Filtrada','winter')\n",
    "imshow(procesada[0,1,:,:].detach(),'Filtrada','winter')\n",
    "imshow(procesada[0,2,:,:].detach(),'Filtrada','winter')\n"
   ]
  },
  {
   "cell_type": "code",
   "execution_count": 15,
   "metadata": {},
   "outputs": [],
   "source": [
    "procesada1 = model.features1(procesada)[0]\n"
   ]
  },
  {
   "cell_type": "code",
   "execution_count": 16,
   "metadata": {
    "scrolled": false
   },
   "outputs": [
    {
     "name": "stdout",
     "output_type": "stream",
     "text": [
      "0\n"
     ]
    },
    {
     "data": {
      "image/png": "[encoded data removed]",
      "text/plain": [
       "<Figure size 432x288 with 1 Axes>"
      ]
     },
     "metadata": {
      "needs_background": "light"
     },
     "output_type": "display_data"
    },
    {
     "name": "stdout",
     "output_type": "stream",
     "text": [
      "1\n"
     ]
    },
    {
     "data": {
      "image/png": "[encoded data removed]",
      "text/plain": [
       "<Figure size 432x288 with 1 Axes>"
      ]
     },
     "metadata": {
      "needs_background": "light"
     },
     "output_type": "display_data"
    },
    {
     "name": "stdout",
     "output_type": "stream",
     "text": [
      "2\n"
     ]
    },
    {
     "data": {
      "image/png": "[encoded data removed]",
      "text/plain": [
       "<Figure size 432x288 with 1 Axes>"
      ]
     },
     "metadata": {
      "needs_background": "light"
     },
     "output_type": "display_data"
    },
    {
     "name": "stdout",
     "output_type": "stream",
     "text": [
      "3\n"
     ]
    },
    {
     "data": {
      "image/png": "[encoded data removed]",
      "text/plain": [
       "<Figure size 432x288 with 1 Axes>"
      ]
     },
     "metadata": {
      "needs_background": "light"
     },
     "output_type": "display_data"
    },
    {
     "name": "stdout",
     "output_type": "stream",
     "text": [
      "4\n"
     ]
    },
    {
     "data": {
      "image/png": "[encoded data removed]",
      "text/plain": [
       "<Figure size 432x288 with 1 Axes>"
      ]
     },
     "metadata": {
      "needs_background": "light"
     },
     "output_type": "display_data"
    },
    {
     "name": "stdout",
     "output_type": "stream",
     "text": [
      "5\n"
     ]
    },
    {
     "data": {
      "image/png": "[encoded data removed]",
      "text/plain": [
       "<Figure size 432x288 with 1 Axes>"
      ]
     },
     "metadata": {
      "needs_background": "light"
     },
     "output_type": "display_data"
    }
   ],
   "source": [
    "i=0\n",
    "for imag in procesada1:\n",
    "    print(i)\n",
    "    i+=1\n",
    "    imshow(imag.detach(),'Segundos filtros','winter')"
   ]
  },
  {
   "cell_type": "markdown",
   "metadata": {},
   "source": [
    "### Bibliografia:\n",
    "* Goodfellow-et-al. (2016). Deep Learning. MIT Press. http://www.deeplearningbook.org\n",
    "* Convolution. Wikipedia. https://en.wikipedia.org/wiki/Convolution\n",
    "* Kernel (image processing). Wikipedia. https://en.wikipedia.org/wiki/Kernel_(image_processing)"
   ]
  },
  {
   "cell_type": "code",
   "execution_count": null,
   "metadata": {},
   "outputs": [],
   "source": []
  }
 ],
 "metadata": {
  "kernelspec": {
   "display_name": "Python 3",
   "language": "python",
   "name": "python3"
  },
  "language_info": {
   "codemirror_mode": {
    "name": "ipython",
    "version": 3
   },
   "file_extension": ".py",
   "mimetype": "text/x-python",
   "name": "python",
   "nbconvert_exporter": "python",
   "pygments_lexer": "ipython3",
   "version": "3.8.5"
  }
 },
 "nbformat": 4,
 "nbformat_minor": 2
}
